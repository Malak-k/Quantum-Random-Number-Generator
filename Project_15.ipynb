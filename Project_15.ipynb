{
  "nbformat": 4,
  "nbformat_minor": 0,
  "metadata": {
    "colab": {
      "provenance": [],
      "authorship_tag": "ABX9TyOAoz5XWE6f8L6bJNUCraV9",
      "include_colab_link": true
    },
    "kernelspec": {
      "name": "python3",
      "display_name": "Python 3"
    },
    "language_info": {
      "name": "python"
    }
  },
  "cells": [
    {
      "cell_type": "markdown",
      "metadata": {
        "id": "view-in-github",
        "colab_type": "text"
      },
      "source": [
        "<a href=\"https://colab.research.google.com/github/Malak-k/Quantum-Random-Number-Generator/blob/main/Project_15.ipynb\" target=\"_parent\"><img src=\"https://colab.research.google.com/assets/colab-badge.svg\" alt=\"Open In Colab\"/></a>"
      ]
    },
    {
      "cell_type": "markdown",
      "source": [
        "Quantum Teleportation using Cirq"
      ],
      "metadata": {
        "id": "NRoK1kL7hyN5"
      }
    },
    {
      "cell_type": "code",
      "source": [
        "!pip install --quiet cirq"
      ],
      "metadata": {
        "colab": {
          "base_uri": "https://localhost:8080/"
        },
        "collapsed": true,
        "id": "BzCsaF-Ch5Nj",
        "outputId": "9618d667-a26a-4ede-de63-f34cd45cde09"
      },
      "execution_count": null,
      "outputs": [
        {
          "output_type": "stream",
          "name": "stdout",
          "text": [
            "\u001b[?25l     \u001b[90m━━━━━━━━━━━━━━━━━━━━━━━━━━━━━━━━━━━━━━━━\u001b[0m \u001b[32m0.0/45.6 kB\u001b[0m \u001b[31m?\u001b[0m eta \u001b[36m-:--:--\u001b[0m\r\u001b[2K     \u001b[90m━━━━━━━━━━━━━━━━━━━━━━━━━━━━━━━━━━━━━━━━\u001b[0m \u001b[32m45.6/45.6 kB\u001b[0m \u001b[31m2.0 MB/s\u001b[0m eta \u001b[36m0:00:00\u001b[0m\n",
            "\u001b[?25h  Preparing metadata (setup.py) ... \u001b[?25l\u001b[?25hdone\n",
            "\u001b[2K   \u001b[90m━━━━━━━━━━━━━━━━━━━━━━━━━━━━━━━━━━━━━━━━\u001b[0m \u001b[32m1.9/1.9 MB\u001b[0m \u001b[31m26.7 MB/s\u001b[0m eta \u001b[36m0:00:00\u001b[0m\n",
            "\u001b[2K   \u001b[90m━━━━━━━━━━━━━━━━━━━━━━━━━━━━━━━━━━━━━━━━\u001b[0m \u001b[32m532.7/532.7 kB\u001b[0m \u001b[31m25.6 MB/s\u001b[0m eta \u001b[36m0:00:00\u001b[0m\n",
            "\u001b[2K   \u001b[90m━━━━━━━━━━━━━━━━━━━━━━━━━━━━━━━━━━━━━━━━\u001b[0m \u001b[32m60.5/60.5 kB\u001b[0m \u001b[31m3.9 MB/s\u001b[0m eta \u001b[36m0:00:00\u001b[0m\n",
            "\u001b[2K   \u001b[90m━━━━━━━━━━━━━━━━━━━━━━━━━━━━━━━━━━━━━━━━\u001b[0m \u001b[32m69.3/69.3 kB\u001b[0m \u001b[31m4.6 MB/s\u001b[0m eta \u001b[36m0:00:00\u001b[0m\n",
            "\u001b[2K   \u001b[90m━━━━━━━━━━━━━━━━━━━━━━━━━━━━━━━━━━━━━━━━\u001b[0m \u001b[32m596.5/596.5 kB\u001b[0m \u001b[31m27.7 MB/s\u001b[0m eta \u001b[36m0:00:00\u001b[0m\n",
            "\u001b[2K   \u001b[90m━━━━━━━━━━━━━━━━━━━━━━━━━━━━━━━━━━━━━━━━\u001b[0m \u001b[32m202.9/202.9 kB\u001b[0m \u001b[31m14.0 MB/s\u001b[0m eta \u001b[36m0:00:00\u001b[0m\n",
            "\u001b[2K   \u001b[90m━━━━━━━━━━━━━━━━━━━━━━━━━━━━━━━━━━━━━━━━\u001b[0m \u001b[32m53.0/53.0 kB\u001b[0m \u001b[31m3.6 MB/s\u001b[0m eta \u001b[36m0:00:00\u001b[0m\n",
            "\u001b[2K   \u001b[90m━━━━━━━━━━━━━━━━━━━━━━━━━━━━━━━━━━━━━━━━\u001b[0m \u001b[32m6.5/6.5 MB\u001b[0m \u001b[31m58.7 MB/s\u001b[0m eta \u001b[36m0:00:00\u001b[0m\n",
            "\u001b[2K   \u001b[90m━━━━━━━━━━━━━━━━━━━━━━━━━━━━━━━━━━━━━━━━\u001b[0m \u001b[32m2.2/2.2 MB\u001b[0m \u001b[31m41.9 MB/s\u001b[0m eta \u001b[36m0:00:00\u001b[0m\n",
            "\u001b[2K   \u001b[90m━━━━━━━━━━━━━━━━━━━━━━━━━━━━━━━━━━━━━━━━\u001b[0m \u001b[32m2.7/2.7 MB\u001b[0m \u001b[31m49.4 MB/s\u001b[0m eta \u001b[36m0:00:00\u001b[0m\n",
            "\u001b[2K   \u001b[90m━━━━━━━━━━━━━━━━━━━━━━━━━━━━━━━━━━━━━━━━\u001b[0m \u001b[32m1.7/1.7 MB\u001b[0m \u001b[31m45.6 MB/s\u001b[0m eta \u001b[36m0:00:00\u001b[0m\n",
            "\u001b[2K   \u001b[90m━━━━━━━━━━━━━━━━━━━━━━━━━━━━━━━━━━━━━━━━\u001b[0m \u001b[32m117.7/117.7 kB\u001b[0m \u001b[31m8.2 MB/s\u001b[0m eta \u001b[36m0:00:00\u001b[0m\n",
            "\u001b[2K   \u001b[90m━━━━━━━━━━━━━━━━━━━━━━━━━━━━━━━━━━━━━━━━\u001b[0m \u001b[32m739.1/739.1 kB\u001b[0m \u001b[31m29.7 MB/s\u001b[0m eta \u001b[36m0:00:00\u001b[0m\n",
            "\u001b[?25h  Building wheel for rpcq (setup.py) ... \u001b[?25l\u001b[?25hdone\n"
          ]
        }
      ]
    },
    {
      "cell_type": "markdown",
      "source": [
        "Create the Three Qubits"
      ],
      "metadata": {
        "id": "cPPK_i8qiGTG"
      }
    },
    {
      "cell_type": "code",
      "source": [
        "import cirq\n",
        "\n",
        "# Define three qubits: sender (Alice), intermediary, and receiver (Bob)\n",
        "alice = cirq.NamedQubit(\"Alice\")\n",
        "intermediary = cirq.NamedQubit(\"Intermediary\")\n",
        "bob = cirq.NamedQubit(\"Bob\")"
      ],
      "metadata": {
        "id": "m4MzDuNyiFHi"
      },
      "execution_count": null,
      "outputs": []
    },
    {
      "cell_type": "markdown",
      "source": [
        "Prepare the Quantum State to be Teleported"
      ],
      "metadata": {
        "id": "w4BeGwoKiRt7"
      }
    },
    {
      "cell_type": "code",
      "source": [
        "# Define a quantum circuit\n",
        "circuit = cirq.Circuit()\n",
        "\n",
        "# Initialize Alice's qubit in a superposition state (example state)\n",
        "circuit.append(cirq.H(alice))\n",
        "circuit.append(cirq.S(alice))  # Applying an S gate as an example"
      ],
      "metadata": {
        "id": "5pb-tibkiTfZ"
      },
      "execution_count": null,
      "outputs": []
    },
    {
      "cell_type": "markdown",
      "source": [
        "Create Entanglement Between Qubits"
      ],
      "metadata": {
        "id": "BWpe0AaHiYJH"
      }
    },
    {
      "cell_type": "code",
      "source": [
        "# Create entanglement between Intermediary and Bob\n",
        "circuit.append(cirq.H(intermediary))\n",
        "circuit.append(cirq.CNOT(intermediary, bob))"
      ],
      "metadata": {
        "id": "Ah8OUURbibxt"
      },
      "execution_count": null,
      "outputs": []
    },
    {
      "cell_type": "markdown",
      "source": [
        "Apply Quantum Teleportation Operations"
      ],
      "metadata": {
        "id": "rb6KWlvTihcC"
      }
    },
    {
      "cell_type": "code",
      "source": [
        "# Apply CNOT between Alice and Intermediary\n",
        "circuit.append(cirq.CNOT(alice, intermediary))\n",
        "\n",
        "# Apply Hadamard gate on Alice\n",
        "circuit.append(cirq.H(alice))"
      ],
      "metadata": {
        "id": "Lj-4yOlWih-n"
      },
      "execution_count": null,
      "outputs": []
    },
    {
      "cell_type": "markdown",
      "source": [
        "Measure Alice's and Intermediary's Qubits"
      ],
      "metadata": {
        "id": "8u22bdbrimiH"
      }
    },
    {
      "cell_type": "code",
      "source": [
        "# Measure Alice and Intermediary\n",
        "circuit.append(cirq.measure(alice, intermediary))"
      ],
      "metadata": {
        "id": "EXBgmfyEipli"
      },
      "execution_count": null,
      "outputs": []
    },
    {
      "cell_type": "markdown",
      "source": [
        "Apply Corrections Based on Measurement Results"
      ],
      "metadata": {
        "id": "4u5OgGA0iwKF"
      }
    },
    {
      "cell_type": "code",
      "source": [
        "# Apply corrections after measuring Alice and Intermediary\n",
        "circuit.append(cirq.CNOT(intermediary, bob).controlled_by(alice))\n",
        "circuit.append(cirq.Z(bob).controlled_by(intermediary))"
      ],
      "metadata": {
        "id": "xT4ZvQehi6Cg"
      },
      "execution_count": null,
      "outputs": []
    },
    {
      "cell_type": "markdown",
      "source": [
        "Run the Simulation and Display Results"
      ],
      "metadata": {
        "id": "JsUTK43IjDgs"
      }
    },
    {
      "cell_type": "code",
      "source": [
        "# Simulate the circuit\n",
        "simulator = cirq.Simulator()\n",
        "result = simulator.run(circuit, repetitions=1)\n",
        "\n",
        "# Print measurement results\n",
        "print(\"Measurement Results:\", result)"
      ],
      "metadata": {
        "colab": {
          "base_uri": "https://localhost:8080/"
        },
        "id": "G1taUPvkjD-4",
        "outputId": "4d60e73e-4488-4c84-d403-27e9b64ab26f"
      },
      "execution_count": null,
      "outputs": [
        {
          "output_type": "stream",
          "name": "stdout",
          "text": [
            "Measurement Results: Alice,Intermediary=1, 1\n"
          ]
        }
      ]
    }
  ]
}